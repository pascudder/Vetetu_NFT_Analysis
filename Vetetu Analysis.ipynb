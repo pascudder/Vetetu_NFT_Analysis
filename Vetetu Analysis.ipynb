{
 "cells": [
  {
   "cell_type": "code",
   "execution_count": 1,
   "id": "9b075583",
   "metadata": {},
   "outputs": [],
   "source": [
    "#Updated 4/16/2024\n",
    "\n",
    "import csv\n",
    "\n",
    "myFile = open('lockedEndList.txt', \"r\") \n",
    "data = myFile.read()\n",
    "lockedEndList = data.split(\"\\n\")\n",
    "myFile.close()\n",
    "\n",
    "myFile = open('lockedDerivedAmountList.txt', \"r\")\n",
    "data = myFile.read()\n",
    "lockedDerivedAmountList = data.split(\"\\n\")\n",
    "myFile.close()"
   ]
  },
  {
   "cell_type": "code",
   "execution_count": 8,
   "id": "d90bfb21",
   "metadata": {},
   "outputs": [
    {
     "name": "stdout",
     "output_type": "stream",
     "text": [
      "1201\n",
      "-375.0\n",
      "213.0\n"
     ]
    }
   ],
   "source": [
    "lockedEndListFormatted = []\n",
    "for i in range(len(lockedEndList)):\n",
    "    if lockedEndList[i] == '':\n",
    "        continue\n",
    "    if lockedEndList[i] == '0':\n",
    "        lockedEndListFormatted.append(0)\n",
    "    else:\n",
    "        lockedEndListFormatted.append((int(lockedEndList[i])/86400-19723))\n",
    "\n",
    "print(len(lockedEndListFormatted)) #should be equal to lockedDerivedAmountListFormatted\n",
    "print(min(lockedEndListFormatted)) #for the plot axis\n",
    "print(max(lockedEndListFormatted)) #for the plot axis"
   ]
  },
  {
   "cell_type": "code",
   "execution_count": 7,
   "id": "e85b78f3",
   "metadata": {},
   "outputs": [
    {
     "name": "stdout",
     "output_type": "stream",
     "text": [
      "1201\n",
      "0.0\n",
      "13507347.947150584\n"
     ]
    }
   ],
   "source": [
    "lockedDerivedAmountListFormatted = []\n",
    "for i in range(len(lockedDerivedAmountList)):\n",
    "    if lockedEndList[i] == '':\n",
    "        continue\n",
    "    else:\n",
    "        lockedDerivedAmountListFormatted.append(int(lockedDerivedAmountList[i]) * 10**-18)\n",
    "\n",
    "print(len(lockedDerivedAmountListFormatted)) #should be equal to lockedEndListFormatted\n",
    "print(min(lockedDerivedAmountListFormatted)) #for the plot axis\n",
    "print(max(lockedDerivedAmountListFormatted)) #for the plot axis"
   ]
  },
  {
   "cell_type": "code",
   "execution_count": 4,
   "id": "eca9101e",
   "metadata": {},
   "outputs": [
    {
     "data": {
      "image/png": "[encoded data removed]",
      "text/plain": [
       "<Figure size 640x480 with 1 Axes>"
      ]
     },
     "metadata": {},
     "output_type": "display_data"
    }
   ],
   "source": [
    "import matplotlib.pyplot as plt\n",
    "import numpy as np\n",
    "\n",
    "x_axis = lockedEndListFormatted\n",
    "y_axis = lockedDerivedAmountListFormatted\n",
    "\n",
    "plt.bar(x_axis, y_axis)\n",
    "plt.axis([-400, 250, 0, 14000000])\n",
    "plt.title('VeTetu Balances')\n",
    "plt.xlabel('Unlock Date(days past Jan 1 2024)')\n",
    "plt.ylabel('VeTetu Balance')\n",
    "plt.xticks(np.arange(-400,250, 100))\n",
    "\n",
    "plt.show()"
   ]
  },
  {
   "cell_type": "code",
   "execution_count": 20,
   "id": "87839e2a",
   "metadata": {
    "scrolled": true
   },
   "outputs": [
    {
     "name": "stdout",
     "output_type": "stream",
     "text": [
      "Large Balance NFTs:\n",
      "\n",
      "ID: 8, 5344249.610559565, date: 213.0\n",
      "ID: 14, 8498459.87667031, date: 213.0\n",
      "ID: 18, 1682191.9949332892, date: 136.0\n",
      "ID: 20, 1048954.617678732, date: 213.0\n",
      "ID: 27, 106782.43944196783, date: 213.0\n",
      "ID: 36, 503846.81379626144, date: 213.0\n",
      "ID: 57, 10326289.572917467, date: 199.0\n",
      "ID: 66, 6233401.400433601, date: 213.0\n",
      "ID: 87, 2555202.0757717346, date: -130.0\n",
      "ID: 124, 714251.5594549646, date: 213.0\n",
      "ID: 156, 154348.46141932244, date: 213.0\n",
      "ID: 161, 307005.208700423, date: -228.0\n",
      "ID: 168, 347868.7304337405, date: -95.0\n",
      "ID: 304, 259026.28714599373, date: -207.0\n",
      "ID: 422, 837139.9586377093, date: -207.0\n",
      "ID: 966, 1875591.1917993631, date: -256.0\n",
      "ID: 1064, 7527686.893828427, date: 213.0\n",
      "ID: 1065, 7261676.950776717, date: 213.0\n",
      "ID: 1066, 7490680.8725809585, date: 213.0\n",
      "ID: 1070, 13507347.947150584, date: 213.0\n",
      "ID: 1071, 5084179.400084896, date: 129.0\n",
      "ID: 1082, 1244298.5649626406, date: 150.0\n",
      "ID: 1084, 462043.49759536993, date: 213.0\n",
      "ID: 1085, 284476.8919382601, date: 185.0\n",
      "ID: 1087, 7180482.96457899, date: 213.0\n",
      "ID: 1093, 9097143.812162118, date: 108.0\n",
      "ID: 1099, 3567999.1485068556, date: 115.0\n",
      "ID: 1100, 223089.4663307485, date: 213.0\n",
      "ID: 1102, 5227038.943776568, date: 213.0\n",
      "ID: 1103, 4970210.648993416, date: 185.0\n",
      "ID: 1104, 634749.6302107894, date: 164.0\n",
      "ID: 1138, 466986.31027649174, date: 213.0\n",
      "Total Balance: 116064637.82845037\n",
      "\n",
      "Total Balance Greater than 100,000: 115024701.74354827\n",
      "\n",
      "Unlocked:\n",
      "ID: 87, 2555202.0757717346, date: -130.0\n",
      "ID: 161, 307005.208700423, date: -228.0\n",
      "ID: 168, 347868.7304337405, date: -95.0\n",
      "ID: 304, 259026.28714599373, date: -207.0\n",
      "ID: 422, 837139.9586377093, date: -207.0\n",
      "ID: 966, 1875591.1917993631, date: -256.0\n",
      "ID: 1071, 5084179.400084896, date: 129.0\n",
      "ID: 1093, 9097143.812162118, date: 108.0\n",
      "ID: 1099, 3567999.1485068556, date: 115.0\n",
      "Total Unlocked: 24512918.47031382\n",
      "\n",
      "Percent Unlocked: 21.120057692804934\n"
     ]
    }
   ],
   "source": [
    "largeNFTList = []\n",
    "largeNFTListInt = []\n",
    "unlockedList = []\n",
    "unlockedListInt = []\n",
    "print('Large Balance NFTs:\\n')\n",
    "for i in range(len(lockedDerivedAmountListFormatted)):\n",
    "    if lockedDerivedAmountListFormatted[i] > 100000:\n",
    "        print('ID: ' + str(i) + ', ' + str(lockedDerivedAmountListFormatted[i]) + ', date: ' + str(lockedEndListFormatted[i]))\n",
    "        largeNFTList.append(str(lockedDerivedAmountListFormatted[i]) + ', date: ' + str(lockedEndListFormatted[i]))\n",
    "        largeNFTListInt.append(lockedDerivedAmountListFormatted[i])\n",
    "    if lockedEndListFormatted[i] < 136:\n",
    "        unlockedListInt.append(lockedDerivedAmountListFormatted[i])\n",
    "        if lockedDerivedAmountListFormatted[i] > 100000:\n",
    "            unlockedList.append('ID: ' + str(i) + ', ' + str(lockedDerivedAmountListFormatted[i]) + ', date: ' + str(lockedEndListFormatted[i]))\n",
    "print('Total Balance: ' + str(sum(lockedDerivedAmountListFormatted)) + '\\n')\n",
    "print('Total Balance Greater than 100,000: ' + str(sum(largeNFTListInt)) + '\\n')\n",
    "print('Unlocked:')\n",
    "for item in unlockedList:\n",
    "    print(item)\n",
    "print('Total Unlocked: ' + str(sum(unlockedListInt)) + '\\n')\n",
    "print('Percent Unlocked: ' + str(sum(unlockedListInt)/sum(lockedDerivedAmountListFormatted)*100))\n"
   ]
  },
  {
   "cell_type": "code",
   "execution_count": null,
   "id": "45005765",
   "metadata": {},
   "outputs": [],
   "source": []
  }
 ],
 "metadata": {
  "kernelspec": {
   "display_name": "Python 3 (ipykernel)",
   "language": "python",
   "name": "python3"
  },
  "language_info": {
   "codemirror_mode": {
    "name": "ipython",
    "version": 3
   },
   "file_extension": ".py",
   "mimetype": "text/x-python",
   "name": "python",
   "nbconvert_exporter": "python",
   "pygments_lexer": "ipython3",
   "version": "3.12.1"
  }
 },
 "nbformat": 4,
 "nbformat_minor": 5
}
